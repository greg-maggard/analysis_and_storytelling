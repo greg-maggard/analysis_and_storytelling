{
 "cells": [
  {
   "cell_type": "code",
   "execution_count": 1,
   "id": "b03bc8af",
   "metadata": {},
   "outputs": [],
   "source": [
    "import pandas as pd\n",
    "import numpy as np\n",
    "import matplotlib as plot\n",
    "import seaborn as sns\n",
    "\n",
    "df = pd.read_csv('TELCO_Data.csv')"
   ]
  },
  {
   "cell_type": "markdown",
   "id": "ca0465a9",
   "metadata": {},
   "source": [
    "# What's the Angle?\n",
    "- We need to advertise and incentivize partner or family plans (those with partners and dependents are less likely to leave).\n",
    "\n",
    "# Main Points:\n",
    "- Focus on Family: focus on pushing family/partner plans with special rates or perks.\n",
    "- Streamline the process of signing up for family plans, and facilitate exceptional customer service for mult-line accounts. "
   ]
  },
  {
   "cell_type": "markdown",
   "id": "19deb7c9",
   "metadata": {},
   "source": [
    "# Key Takeaways from Analysis:\n",
    "- the monthly churn rate (26.5%) appears to be over 13x the 'normal' churn rate for telecom companies\n",
    "- the average cost to replace these churned customers *just this month* would be around \\\\$298. That's \\\\$556,665.40 for all of them, which would mean almost \\\\$6.7 Million if future months continue this trend.\n",
    "- People with multiple lines made up about 45% of the churn.\n",
    "- People who have partners are much less likely to churn.\n",
    "- People with dependents are much less likely to churn."
   ]
  }
 ],
 "metadata": {
  "kernelspec": {
   "display_name": "Python 3 (ipykernel)",
   "language": "python",
   "name": "python3"
  },
  "language_info": {
   "codemirror_mode": {
    "name": "ipython",
    "version": 3
   },
   "file_extension": ".py",
   "mimetype": "text/x-python",
   "name": "python",
   "nbconvert_exporter": "python",
   "pygments_lexer": "ipython3",
   "version": "3.9.7"
  }
 },
 "nbformat": 4,
 "nbformat_minor": 5
}
