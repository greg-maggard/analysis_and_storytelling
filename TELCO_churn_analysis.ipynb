{
 "cells": [
  {
   "cell_type": "code",
   "execution_count": 1,
   "id": "116a0c6b",
   "metadata": {},
   "outputs": [],
   "source": [
    "import pandas as pd\n",
    "import numpy as np\n",
    "import matplotlib as plot\n",
    "import seaborn as sns\n",
    "\n",
    "df = pd.read_csv('TELCO_Data.csv')"
   ]
  },
  {
   "cell_type": "markdown",
   "id": "d21cced6",
   "metadata": {},
   "source": [
    "# What's the Angle?\n",
    "- We need to advertise and incentivize partner or family plans (those with partners and dependents are less likely to leave).\n",
    "\n",
    "# Main Points:\n",
    "- Focus on Family: focus on pushing family/partner plans with special rates or perks"
   ]
  },
  {
   "cell_type": "markdown",
   "id": "b6213043",
   "metadata": {},
   "source": [
    "# Key Takeaways from Analysis:\n",
    "- the monthly churn rate (26.5%) appears to be over 13x the 'normal' churn rate for telecom companies\n",
    "- the average cost to replace these churned customers *just this month* would be around \\\\$298. That's \\\\$556,665.40 for all of them, which would mean almost \\\\$6.7 Million if future months continue this trend.\n",
    "- People who churned had higher monthly charges on average than those who did not.\n",
    "- People with lower tenure are more likely to churn.\n",
    "- People who have partners are much less likely to churn.\n",
    "- People with dependents are much less likely to churn. \n",
    "- People on autopay are much less likely to churn."
   ]
  },
  {
   "cell_type": "code",
   "execution_count": 2,
   "id": "f81c0244",
   "metadata": {},
   "outputs": [],
   "source": [
    "df.to_excel('telco.xlsx')"
   ]
  },
  {
   "cell_type": "markdown",
   "id": "b2f60b41",
   "metadata": {},
   "source": [
    "## Some general data cleanup:"
   ]
  },
  {
   "cell_type": "code",
   "execution_count": 3,
   "id": "0ad58baa",
   "metadata": {},
   "outputs": [],
   "source": [
    "# Changing senior citizen row to boolean values. \n",
    "\n",
    "df['is_senior_citizen'] = df['is_senior_citizen'].replace([0, 1],['No', 'Yes']).astype('object')"
   ]
  },
  {
   "cell_type": "code",
   "execution_count": 4,
   "id": "f7fef84d",
   "metadata": {},
   "outputs": [],
   "source": [
    "df['service_type'] = \" \""
   ]
  },
  {
   "cell_type": "code",
   "execution_count": 5,
   "id": "9a623ed5",
   "metadata": {},
   "outputs": [],
   "source": [
    "#Filling in column that lists whether customer has phone, internet, or both\n",
    "\n",
    "for i in range (df.shape[0]):\n",
    "    if ((df.loc[i, 'phone_service'] != 0) & (df.loc[i, 'internet_service'] != 0)):\n",
    "        df.loc[i, 'service_type'] = 'Both'\n",
    "    elif df.loc[i, 'phone_service'] != 0 and df.loc[i, 'internet_service'] == 0:\n",
    "        df.loc[i, 'service_type'] = 'Phone'\n",
    "    elif df.loc[i, 'phone_service'] == 0 and df.loc[i, 'internet_service'] != 0:\n",
    "        df.loc[i, 'service_type'] = 'Internet'"
   ]
  },
  {
   "cell_type": "code",
   "execution_count": 6,
   "id": "74222221",
   "metadata": {},
   "outputs": [
    {
     "data": {
      "text/plain": [
       "Both        4837\n",
       "Phone       1529\n",
       "Internet     683\n",
       "Name: service_type, dtype: int64"
      ]
     },
     "execution_count": 6,
     "metadata": {},
     "output_type": "execute_result"
    }
   ],
   "source": [
    "df.service_type.value_counts()"
   ]
  },
  {
   "cell_type": "code",
   "execution_count": 7,
   "id": "a11fbb40",
   "metadata": {},
   "outputs": [],
   "source": [
    "df['is_auto_pay'] = ' '"
   ]
  },
  {
   "cell_type": "code",
   "execution_count": 8,
   "id": "7df816d9",
   "metadata": {},
   "outputs": [],
   "source": [
    "#Filling in column that lists whether customer is using automatic payment\n",
    "\n",
    "for i in range(df.shape[0]):\n",
    "    if 'automatic' in df.loc[i, 'payment_type']:\n",
    "        df.loc[i, 'is_auto_pay'] = 'Yes'\n",
    "    elif 'automatic' not in df.loc[i, 'payment_type']:\n",
    "        df.loc[i, 'is_auto_pay'] = 'No'"
   ]
  },
  {
   "cell_type": "code",
   "execution_count": 9,
   "id": "8de11da7",
   "metadata": {},
   "outputs": [],
   "source": [
    "#Creating Column to list whether customer has multiple phone lines:\n",
    "\n",
    "df['has_multiple_lines'] = ' '"
   ]
  },
  {
   "cell_type": "code",
   "execution_count": 10,
   "id": "169dd924",
   "metadata": {},
   "outputs": [],
   "source": [
    "#fill in column to list whether customer has multiple phone lines\n",
    "\n",
    "for i in range(df.shape[0]):\n",
    "    if df.loc[i, 'phone_service'] > 1:\n",
    "        df.loc[i, 'has_multiple_lines'] = 'Yes'\n",
    "    else:\n",
    "        df.loc[i, 'has_multiple_lines'] = 'No'"
   ]
  },
  {
   "cell_type": "code",
   "execution_count": 11,
   "id": "5f18732f",
   "metadata": {},
   "outputs": [],
   "source": [
    "#create column that lists whether customer has dependents, a partner, both, or none\n",
    "df['group_type'] = ' '"
   ]
  },
  {
   "cell_type": "code",
   "execution_count": 12,
   "id": "d5ea155b",
   "metadata": {},
   "outputs": [],
   "source": [
    "for i in range (df.shape[0]):\n",
    "    if ((df.loc[i, 'partner'] == 'Yes') & (df.loc[i, 'dependents'] == 'Yes')):\n",
    "        df.loc[i, 'group_type'] = 'Both'\n",
    "    elif ((df.loc[i, 'partner'] == 'Yes') & (df.loc[i, 'dependents'] == 'No')):\n",
    "        df.loc[i, 'group_type'] = 'Partner'\n",
    "    elif ((df.loc[i, 'partner'] == 'No') & (df.loc[i, 'dependents'] == 'Yes')):\n",
    "        df.loc[i, 'group_type'] = 'Dependents'\n",
    "    elif ((df.loc[i, 'partner'] == 'No') & (df.loc[i, 'dependents'] == 'No')):\n",
    "        df.loc[i, 'group_type'] = 'Neither'"
   ]
  },
  {
   "cell_type": "code",
   "execution_count": 13,
   "id": "cb37b267",
   "metadata": {
    "scrolled": true
   },
   "outputs": [
    {
     "data": {
      "text/html": [
       "<div>\n",
       "<style scoped>\n",
       "    .dataframe tbody tr th:only-of-type {\n",
       "        vertical-align: middle;\n",
       "    }\n",
       "\n",
       "    .dataframe tbody tr th {\n",
       "        vertical-align: top;\n",
       "    }\n",
       "\n",
       "    .dataframe thead th {\n",
       "        text-align: right;\n",
       "    }\n",
       "</style>\n",
       "<table border=\"1\" class=\"dataframe\">\n",
       "  <thead>\n",
       "    <tr style=\"text-align: right;\">\n",
       "      <th></th>\n",
       "      <th>0</th>\n",
       "      <th>1</th>\n",
       "      <th>2</th>\n",
       "      <th>3</th>\n",
       "      <th>4</th>\n",
       "      <th>5</th>\n",
       "      <th>6</th>\n",
       "      <th>7</th>\n",
       "      <th>8</th>\n",
       "      <th>9</th>\n",
       "      <th>...</th>\n",
       "      <th>7039</th>\n",
       "      <th>7040</th>\n",
       "      <th>7041</th>\n",
       "      <th>7042</th>\n",
       "      <th>7043</th>\n",
       "      <th>7044</th>\n",
       "      <th>7045</th>\n",
       "      <th>7046</th>\n",
       "      <th>7047</th>\n",
       "      <th>7048</th>\n",
       "    </tr>\n",
       "  </thead>\n",
       "  <tbody>\n",
       "    <tr>\n",
       "      <th>customer_id</th>\n",
       "      <td>0002-ORFBO</td>\n",
       "      <td>0003-MKNFE</td>\n",
       "      <td>0004-TLHLJ</td>\n",
       "      <td>0011-IGKFF</td>\n",
       "      <td>0013-EXCHZ</td>\n",
       "      <td>0013-MHZWF</td>\n",
       "      <td>0013-SMEOE</td>\n",
       "      <td>0014-BMAQU</td>\n",
       "      <td>0015-UOCOJ</td>\n",
       "      <td>0016-QLJIS</td>\n",
       "      <td>...</td>\n",
       "      <td>9975-SKRNR</td>\n",
       "      <td>9978-HYCIN</td>\n",
       "      <td>9979-RGMZT</td>\n",
       "      <td>9985-MWVIX</td>\n",
       "      <td>9986-BONCE</td>\n",
       "      <td>9987-LUTYD</td>\n",
       "      <td>9992-RRAMN</td>\n",
       "      <td>9992-UJOEL</td>\n",
       "      <td>9993-LHIEB</td>\n",
       "      <td>9995-HOTOH</td>\n",
       "    </tr>\n",
       "    <tr>\n",
       "      <th>gender</th>\n",
       "      <td>Female</td>\n",
       "      <td>Male</td>\n",
       "      <td>Male</td>\n",
       "      <td>Male</td>\n",
       "      <td>Female</td>\n",
       "      <td>Female</td>\n",
       "      <td>Female</td>\n",
       "      <td>Male</td>\n",
       "      <td>Female</td>\n",
       "      <td>Female</td>\n",
       "      <td>...</td>\n",
       "      <td>Male</td>\n",
       "      <td>Male</td>\n",
       "      <td>Female</td>\n",
       "      <td>Female</td>\n",
       "      <td>Female</td>\n",
       "      <td>Female</td>\n",
       "      <td>Male</td>\n",
       "      <td>Male</td>\n",
       "      <td>Male</td>\n",
       "      <td>Male</td>\n",
       "    </tr>\n",
       "    <tr>\n",
       "      <th>is_senior_citizen</th>\n",
       "      <td>No</td>\n",
       "      <td>No</td>\n",
       "      <td>No</td>\n",
       "      <td>Yes</td>\n",
       "      <td>Yes</td>\n",
       "      <td>No</td>\n",
       "      <td>Yes</td>\n",
       "      <td>No</td>\n",
       "      <td>Yes</td>\n",
       "      <td>No</td>\n",
       "      <td>...</td>\n",
       "      <td>No</td>\n",
       "      <td>Yes</td>\n",
       "      <td>No</td>\n",
       "      <td>No</td>\n",
       "      <td>No</td>\n",
       "      <td>No</td>\n",
       "      <td>No</td>\n",
       "      <td>No</td>\n",
       "      <td>No</td>\n",
       "      <td>No</td>\n",
       "    </tr>\n",
       "    <tr>\n",
       "      <th>partner</th>\n",
       "      <td>Yes</td>\n",
       "      <td>No</td>\n",
       "      <td>No</td>\n",
       "      <td>Yes</td>\n",
       "      <td>Yes</td>\n",
       "      <td>No</td>\n",
       "      <td>Yes</td>\n",
       "      <td>Yes</td>\n",
       "      <td>No</td>\n",
       "      <td>Yes</td>\n",
       "      <td>...</td>\n",
       "      <td>No</td>\n",
       "      <td>Yes</td>\n",
       "      <td>No</td>\n",
       "      <td>No</td>\n",
       "      <td>No</td>\n",
       "      <td>No</td>\n",
       "      <td>Yes</td>\n",
       "      <td>No</td>\n",
       "      <td>Yes</td>\n",
       "      <td>Yes</td>\n",
       "    </tr>\n",
       "    <tr>\n",
       "      <th>dependents</th>\n",
       "      <td>Yes</td>\n",
       "      <td>No</td>\n",
       "      <td>No</td>\n",
       "      <td>No</td>\n",
       "      <td>No</td>\n",
       "      <td>Yes</td>\n",
       "      <td>No</td>\n",
       "      <td>No</td>\n",
       "      <td>No</td>\n",
       "      <td>Yes</td>\n",
       "      <td>...</td>\n",
       "      <td>No</td>\n",
       "      <td>Yes</td>\n",
       "      <td>No</td>\n",
       "      <td>No</td>\n",
       "      <td>No</td>\n",
       "      <td>No</td>\n",
       "      <td>No</td>\n",
       "      <td>No</td>\n",
       "      <td>Yes</td>\n",
       "      <td>Yes</td>\n",
       "    </tr>\n",
       "    <tr>\n",
       "      <th>phone_service</th>\n",
       "      <td>1</td>\n",
       "      <td>2</td>\n",
       "      <td>1</td>\n",
       "      <td>1</td>\n",
       "      <td>1</td>\n",
       "      <td>1</td>\n",
       "      <td>1</td>\n",
       "      <td>2</td>\n",
       "      <td>1</td>\n",
       "      <td>2</td>\n",
       "      <td>...</td>\n",
       "      <td>1</td>\n",
       "      <td>1</td>\n",
       "      <td>1</td>\n",
       "      <td>1</td>\n",
       "      <td>1</td>\n",
       "      <td>1</td>\n",
       "      <td>2</td>\n",
       "      <td>1</td>\n",
       "      <td>1</td>\n",
       "      <td>0</td>\n",
       "    </tr>\n",
       "    <tr>\n",
       "      <th>internet_service</th>\n",
       "      <td>1</td>\n",
       "      <td>1</td>\n",
       "      <td>2</td>\n",
       "      <td>2</td>\n",
       "      <td>2</td>\n",
       "      <td>1</td>\n",
       "      <td>2</td>\n",
       "      <td>2</td>\n",
       "      <td>1</td>\n",
       "      <td>1</td>\n",
       "      <td>...</td>\n",
       "      <td>0</td>\n",
       "      <td>2</td>\n",
       "      <td>2</td>\n",
       "      <td>2</td>\n",
       "      <td>0</td>\n",
       "      <td>1</td>\n",
       "      <td>2</td>\n",
       "      <td>1</td>\n",
       "      <td>1</td>\n",
       "      <td>1</td>\n",
       "    </tr>\n",
       "    <tr>\n",
       "      <th>contract_type</th>\n",
       "      <td>1</td>\n",
       "      <td>0</td>\n",
       "      <td>0</td>\n",
       "      <td>0</td>\n",
       "      <td>0</td>\n",
       "      <td>0</td>\n",
       "      <td>2</td>\n",
       "      <td>2</td>\n",
       "      <td>0</td>\n",
       "      <td>2</td>\n",
       "      <td>...</td>\n",
       "      <td>0</td>\n",
       "      <td>1</td>\n",
       "      <td>1</td>\n",
       "      <td>0</td>\n",
       "      <td>0</td>\n",
       "      <td>1</td>\n",
       "      <td>0</td>\n",
       "      <td>0</td>\n",
       "      <td>2</td>\n",
       "      <td>2</td>\n",
       "    </tr>\n",
       "    <tr>\n",
       "      <th>payment_type</th>\n",
       "      <td>Mailed check</td>\n",
       "      <td>Mailed check</td>\n",
       "      <td>Electronic check</td>\n",
       "      <td>Electronic check</td>\n",
       "      <td>Mailed check</td>\n",
       "      <td>Credit card (automatic)</td>\n",
       "      <td>Bank transfer (automatic)</td>\n",
       "      <td>Credit card (automatic)</td>\n",
       "      <td>Electronic check</td>\n",
       "      <td>Mailed check</td>\n",
       "      <td>...</td>\n",
       "      <td>Mailed check</td>\n",
       "      <td>Bank transfer (automatic)</td>\n",
       "      <td>Mailed check</td>\n",
       "      <td>Mailed check</td>\n",
       "      <td>Bank transfer (automatic)</td>\n",
       "      <td>Mailed check</td>\n",
       "      <td>Electronic check</td>\n",
       "      <td>Mailed check</td>\n",
       "      <td>Mailed check</td>\n",
       "      <td>Electronic check</td>\n",
       "    </tr>\n",
       "    <tr>\n",
       "      <th>monthly_charges</th>\n",
       "      <td>65.6</td>\n",
       "      <td>59.9</td>\n",
       "      <td>73.9</td>\n",
       "      <td>98.0</td>\n",
       "      <td>83.9</td>\n",
       "      <td>69.4</td>\n",
       "      <td>109.7</td>\n",
       "      <td>84.65</td>\n",
       "      <td>48.2</td>\n",
       "      <td>90.45</td>\n",
       "      <td>...</td>\n",
       "      <td>18.9</td>\n",
       "      <td>84.95</td>\n",
       "      <td>94.05</td>\n",
       "      <td>70.15</td>\n",
       "      <td>20.95</td>\n",
       "      <td>55.15</td>\n",
       "      <td>85.1</td>\n",
       "      <td>50.3</td>\n",
       "      <td>67.85</td>\n",
       "      <td>59.0</td>\n",
       "    </tr>\n",
       "    <tr>\n",
       "      <th>total_charges</th>\n",
       "      <td>593.3</td>\n",
       "      <td>542.4</td>\n",
       "      <td>280.85</td>\n",
       "      <td>1237.85</td>\n",
       "      <td>267.4</td>\n",
       "      <td>571.45</td>\n",
       "      <td>7904.25</td>\n",
       "      <td>5377.8</td>\n",
       "      <td>340.35</td>\n",
       "      <td>5957.9</td>\n",
       "      <td>...</td>\n",
       "      <td>18.9</td>\n",
       "      <td>4018.05</td>\n",
       "      <td>633.45</td>\n",
       "      <td>70.15</td>\n",
       "      <td>85.5</td>\n",
       "      <td>742.9</td>\n",
       "      <td>1873.7</td>\n",
       "      <td>92.75</td>\n",
       "      <td>4627.65</td>\n",
       "      <td>3707.6</td>\n",
       "    </tr>\n",
       "    <tr>\n",
       "      <th>churn</th>\n",
       "      <td>No</td>\n",
       "      <td>No</td>\n",
       "      <td>Yes</td>\n",
       "      <td>Yes</td>\n",
       "      <td>Yes</td>\n",
       "      <td>No</td>\n",
       "      <td>No</td>\n",
       "      <td>No</td>\n",
       "      <td>No</td>\n",
       "      <td>No</td>\n",
       "      <td>...</td>\n",
       "      <td>No</td>\n",
       "      <td>No</td>\n",
       "      <td>No</td>\n",
       "      <td>Yes</td>\n",
       "      <td>Yes</td>\n",
       "      <td>No</td>\n",
       "      <td>Yes</td>\n",
       "      <td>No</td>\n",
       "      <td>No</td>\n",
       "      <td>No</td>\n",
       "    </tr>\n",
       "    <tr>\n",
       "      <th>tenure</th>\n",
       "      <td>9.0</td>\n",
       "      <td>9.1</td>\n",
       "      <td>3.8</td>\n",
       "      <td>12.6</td>\n",
       "      <td>3.2</td>\n",
       "      <td>8.2</td>\n",
       "      <td>72.1</td>\n",
       "      <td>63.5</td>\n",
       "      <td>7.1</td>\n",
       "      <td>65.9</td>\n",
       "      <td>...</td>\n",
       "      <td>1.0</td>\n",
       "      <td>47.3</td>\n",
       "      <td>6.7</td>\n",
       "      <td>1.0</td>\n",
       "      <td>4.1</td>\n",
       "      <td>13.5</td>\n",
       "      <td>22.0</td>\n",
       "      <td>1.8</td>\n",
       "      <td>68.2</td>\n",
       "      <td>62.8</td>\n",
       "    </tr>\n",
       "    <tr>\n",
       "      <th>service_type</th>\n",
       "      <td>Both</td>\n",
       "      <td>Both</td>\n",
       "      <td>Both</td>\n",
       "      <td>Both</td>\n",
       "      <td>Both</td>\n",
       "      <td>Both</td>\n",
       "      <td>Both</td>\n",
       "      <td>Both</td>\n",
       "      <td>Both</td>\n",
       "      <td>Both</td>\n",
       "      <td>...</td>\n",
       "      <td>Phone</td>\n",
       "      <td>Both</td>\n",
       "      <td>Both</td>\n",
       "      <td>Both</td>\n",
       "      <td>Phone</td>\n",
       "      <td>Both</td>\n",
       "      <td>Both</td>\n",
       "      <td>Both</td>\n",
       "      <td>Both</td>\n",
       "      <td>Internet</td>\n",
       "    </tr>\n",
       "    <tr>\n",
       "      <th>is_auto_pay</th>\n",
       "      <td>No</td>\n",
       "      <td>No</td>\n",
       "      <td>No</td>\n",
       "      <td>No</td>\n",
       "      <td>No</td>\n",
       "      <td>Yes</td>\n",
       "      <td>Yes</td>\n",
       "      <td>Yes</td>\n",
       "      <td>No</td>\n",
       "      <td>No</td>\n",
       "      <td>...</td>\n",
       "      <td>No</td>\n",
       "      <td>Yes</td>\n",
       "      <td>No</td>\n",
       "      <td>No</td>\n",
       "      <td>Yes</td>\n",
       "      <td>No</td>\n",
       "      <td>No</td>\n",
       "      <td>No</td>\n",
       "      <td>No</td>\n",
       "      <td>No</td>\n",
       "    </tr>\n",
       "    <tr>\n",
       "      <th>has_multiple_lines</th>\n",
       "      <td>No</td>\n",
       "      <td>Yes</td>\n",
       "      <td>No</td>\n",
       "      <td>No</td>\n",
       "      <td>No</td>\n",
       "      <td>No</td>\n",
       "      <td>No</td>\n",
       "      <td>Yes</td>\n",
       "      <td>No</td>\n",
       "      <td>Yes</td>\n",
       "      <td>...</td>\n",
       "      <td>No</td>\n",
       "      <td>No</td>\n",
       "      <td>No</td>\n",
       "      <td>No</td>\n",
       "      <td>No</td>\n",
       "      <td>No</td>\n",
       "      <td>Yes</td>\n",
       "      <td>No</td>\n",
       "      <td>No</td>\n",
       "      <td>No</td>\n",
       "    </tr>\n",
       "    <tr>\n",
       "      <th>group_type</th>\n",
       "      <td>Both</td>\n",
       "      <td>Neither</td>\n",
       "      <td>Neither</td>\n",
       "      <td>Partner</td>\n",
       "      <td>Partner</td>\n",
       "      <td>Dependents</td>\n",
       "      <td>Partner</td>\n",
       "      <td>Partner</td>\n",
       "      <td>Neither</td>\n",
       "      <td>Both</td>\n",
       "      <td>...</td>\n",
       "      <td>Neither</td>\n",
       "      <td>Both</td>\n",
       "      <td>Neither</td>\n",
       "      <td>Neither</td>\n",
       "      <td>Neither</td>\n",
       "      <td>Neither</td>\n",
       "      <td>Partner</td>\n",
       "      <td>Neither</td>\n",
       "      <td>Both</td>\n",
       "      <td>Both</td>\n",
       "    </tr>\n",
       "  </tbody>\n",
       "</table>\n",
       "<p>17 rows × 7049 columns</p>\n",
       "</div>"
      ],
      "text/plain": [
       "                            0             1                 2     \\\n",
       "customer_id           0002-ORFBO    0003-MKNFE        0004-TLHLJ   \n",
       "gender                    Female          Male              Male   \n",
       "is_senior_citizen             No            No                No   \n",
       "partner                      Yes            No                No   \n",
       "dependents                   Yes            No                No   \n",
       "phone_service                  1             2                 1   \n",
       "internet_service               1             1                 2   \n",
       "contract_type                  1             0                 0   \n",
       "payment_type        Mailed check  Mailed check  Electronic check   \n",
       "monthly_charges             65.6          59.9              73.9   \n",
       "total_charges              593.3         542.4            280.85   \n",
       "churn                         No            No               Yes   \n",
       "tenure                       9.0           9.1               3.8   \n",
       "service_type                Both          Both              Both   \n",
       "is_auto_pay                   No            No                No   \n",
       "has_multiple_lines            No           Yes                No   \n",
       "group_type                  Both       Neither           Neither   \n",
       "\n",
       "                                3             4                        5     \\\n",
       "customer_id               0011-IGKFF    0013-EXCHZ               0013-MHZWF   \n",
       "gender                          Male        Female                   Female   \n",
       "is_senior_citizen                Yes           Yes                       No   \n",
       "partner                          Yes           Yes                       No   \n",
       "dependents                        No            No                      Yes   \n",
       "phone_service                      1             1                        1   \n",
       "internet_service                   2             2                        1   \n",
       "contract_type                      0             0                        0   \n",
       "payment_type        Electronic check  Mailed check  Credit card (automatic)   \n",
       "monthly_charges                 98.0          83.9                     69.4   \n",
       "total_charges                1237.85         267.4                   571.45   \n",
       "churn                            Yes           Yes                       No   \n",
       "tenure                          12.6           3.2                      8.2   \n",
       "service_type                    Both          Both                     Both   \n",
       "is_auto_pay                       No            No                      Yes   \n",
       "has_multiple_lines                No            No                       No   \n",
       "group_type                   Partner       Partner               Dependents   \n",
       "\n",
       "                                         6                        7     \\\n",
       "customer_id                        0013-SMEOE               0014-BMAQU   \n",
       "gender                                 Female                     Male   \n",
       "is_senior_citizen                         Yes                       No   \n",
       "partner                                   Yes                      Yes   \n",
       "dependents                                 No                       No   \n",
       "phone_service                               1                        2   \n",
       "internet_service                            2                        2   \n",
       "contract_type                               2                        2   \n",
       "payment_type        Bank transfer (automatic)  Credit card (automatic)   \n",
       "monthly_charges                         109.7                    84.65   \n",
       "total_charges                         7904.25                   5377.8   \n",
       "churn                                      No                       No   \n",
       "tenure                                   72.1                     63.5   \n",
       "service_type                             Both                     Both   \n",
       "is_auto_pay                               Yes                      Yes   \n",
       "has_multiple_lines                         No                      Yes   \n",
       "group_type                            Partner                  Partner   \n",
       "\n",
       "                                8             9     ...          7039  \\\n",
       "customer_id               0015-UOCOJ    0016-QLJIS  ...    9975-SKRNR   \n",
       "gender                        Female        Female  ...          Male   \n",
       "is_senior_citizen                Yes            No  ...            No   \n",
       "partner                           No           Yes  ...            No   \n",
       "dependents                        No           Yes  ...            No   \n",
       "phone_service                      1             2  ...             1   \n",
       "internet_service                   1             1  ...             0   \n",
       "contract_type                      0             2  ...             0   \n",
       "payment_type        Electronic check  Mailed check  ...  Mailed check   \n",
       "monthly_charges                 48.2         90.45  ...          18.9   \n",
       "total_charges                 340.35        5957.9  ...          18.9   \n",
       "churn                             No            No  ...            No   \n",
       "tenure                           7.1          65.9  ...           1.0   \n",
       "service_type                    Both          Both  ...         Phone   \n",
       "is_auto_pay                       No            No  ...            No   \n",
       "has_multiple_lines                No           Yes  ...            No   \n",
       "group_type                   Neither          Both  ...       Neither   \n",
       "\n",
       "                                         7040          7041          7042  \\\n",
       "customer_id                        9978-HYCIN    9979-RGMZT    9985-MWVIX   \n",
       "gender                                   Male        Female        Female   \n",
       "is_senior_citizen                         Yes            No            No   \n",
       "partner                                   Yes            No            No   \n",
       "dependents                                Yes            No            No   \n",
       "phone_service                               1             1             1   \n",
       "internet_service                            2             2             2   \n",
       "contract_type                               1             1             0   \n",
       "payment_type        Bank transfer (automatic)  Mailed check  Mailed check   \n",
       "monthly_charges                         84.95         94.05         70.15   \n",
       "total_charges                         4018.05        633.45         70.15   \n",
       "churn                                      No            No           Yes   \n",
       "tenure                                   47.3           6.7           1.0   \n",
       "service_type                             Both          Both          Both   \n",
       "is_auto_pay                               Yes            No            No   \n",
       "has_multiple_lines                         No            No            No   \n",
       "group_type                               Both       Neither       Neither   \n",
       "\n",
       "                                         7043          7044              7045  \\\n",
       "customer_id                        9986-BONCE    9987-LUTYD        9992-RRAMN   \n",
       "gender                                 Female        Female              Male   \n",
       "is_senior_citizen                          No            No                No   \n",
       "partner                                    No            No               Yes   \n",
       "dependents                                 No            No                No   \n",
       "phone_service                               1             1                 2   \n",
       "internet_service                            0             1                 2   \n",
       "contract_type                               0             1                 0   \n",
       "payment_type        Bank transfer (automatic)  Mailed check  Electronic check   \n",
       "monthly_charges                         20.95         55.15              85.1   \n",
       "total_charges                            85.5         742.9            1873.7   \n",
       "churn                                     Yes            No               Yes   \n",
       "tenure                                    4.1          13.5              22.0   \n",
       "service_type                            Phone          Both              Both   \n",
       "is_auto_pay                               Yes            No                No   \n",
       "has_multiple_lines                         No            No               Yes   \n",
       "group_type                            Neither       Neither           Partner   \n",
       "\n",
       "                            7046          7047              7048  \n",
       "customer_id           9992-UJOEL    9993-LHIEB        9995-HOTOH  \n",
       "gender                      Male          Male              Male  \n",
       "is_senior_citizen             No            No                No  \n",
       "partner                       No           Yes               Yes  \n",
       "dependents                    No           Yes               Yes  \n",
       "phone_service                  1             1                 0  \n",
       "internet_service               1             1                 1  \n",
       "contract_type                  0             2                 2  \n",
       "payment_type        Mailed check  Mailed check  Electronic check  \n",
       "monthly_charges             50.3         67.85              59.0  \n",
       "total_charges              92.75       4627.65            3707.6  \n",
       "churn                         No            No                No  \n",
       "tenure                       1.8          68.2              62.8  \n",
       "service_type                Both          Both          Internet  \n",
       "is_auto_pay                   No            No                No  \n",
       "has_multiple_lines            No            No                No  \n",
       "group_type               Neither          Both              Both  \n",
       "\n",
       "[17 rows x 7049 columns]"
      ]
     },
     "execution_count": 13,
     "metadata": {},
     "output_type": "execute_result"
    }
   ],
   "source": [
    "df.T"
   ]
  },
  {
   "cell_type": "markdown",
   "id": "afae988e",
   "metadata": {},
   "source": [
    "# Important Numbers"
   ]
  },
  {
   "cell_type": "code",
   "execution_count": 14,
   "id": "7987a928",
   "metadata": {},
   "outputs": [
    {
     "data": {
      "text/plain": [
       "7049"
      ]
     },
     "execution_count": 14,
     "metadata": {},
     "output_type": "execute_result"
    }
   ],
   "source": [
    "#Number of customers in dataset\n",
    "customer_count = df.shape[0]\n",
    "\n",
    "customer_count"
   ]
  },
  {
   "cell_type": "code",
   "execution_count": 15,
   "id": "bee59591",
   "metadata": {},
   "outputs": [
    {
     "data": {
      "text/plain": [
       "1870"
      ]
     },
     "execution_count": 15,
     "metadata": {},
     "output_type": "execute_result"
    }
   ],
   "source": [
    "#Number of churned customers\n",
    "churned_count = df[df.churn == 'Yes'].shape[0]\n",
    "\n",
    "churned_count"
   ]
  },
  {
   "cell_type": "code",
   "execution_count": 16,
   "id": "c42dd7f5",
   "metadata": {},
   "outputs": [
    {
     "data": {
      "text/plain": [
       "77"
      ]
     },
     "execution_count": 16,
     "metadata": {},
     "output_type": "execute_result"
    }
   ],
   "source": [
    "#Number of churned customers that only had dependents\n",
    "dependents_churn = df[(df['churn'] == 'Yes') & (df['group_type'] == 'Dependents')].shape[0]\n",
    "\n",
    "dependents_churn"
   ]
  },
  {
   "cell_type": "code",
   "execution_count": 17,
   "id": "7376af05",
   "metadata": {},
   "outputs": [
    {
     "data": {
      "text/plain": [
       "420"
      ]
     },
     "execution_count": 17,
     "metadata": {},
     "output_type": "execute_result"
    }
   ],
   "source": [
    "#Number of churned customers that only had partners\n",
    "partner_churn = df[(df['churn'] == 'Yes') & (df['group_type'] == 'Partner')].shape[0]\n",
    "\n",
    "partner_churn"
   ]
  },
  {
   "cell_type": "code",
   "execution_count": 18,
   "id": "40c81c2d",
   "metadata": {},
   "outputs": [
    {
     "data": {
      "text/plain": [
       "250"
      ]
     },
     "execution_count": 18,
     "metadata": {},
     "output_type": "execute_result"
    }
   ],
   "source": [
    "#Number of churned customers that had both partners and dependents\n",
    "partner_and_dependents_churn = df[(df['churn'] == 'Yes') & (df['group_type'] == 'Both')].shape[0]\n",
    "\n",
    "partner_and_dependents_churn"
   ]
  },
  {
   "cell_type": "code",
   "execution_count": 19,
   "id": "f3b57051",
   "metadata": {},
   "outputs": [
    {
     "data": {
      "text/plain": [
       "1123"
      ]
     },
     "execution_count": 19,
     "metadata": {},
     "output_type": "execute_result"
    }
   ],
   "source": [
    "#Number of churned customers that had neither a partner or dependents\n",
    "solo_churn = df[(df['churn'] == 'Yes') & (df['group_type'] == 'Neither')].shape[0]\n",
    "\n",
    "solo_churn"
   ]
  },
  {
   "cell_type": "code",
   "execution_count": 20,
   "id": "7807ee5d",
   "metadata": {},
   "outputs": [
    {
     "data": {
      "text/plain": [
       "1870"
      ]
     },
     "execution_count": 20,
     "metadata": {},
     "output_type": "execute_result"
    }
   ],
   "source": [
    "dependents_churn + partner_churn + partner_and_dependents_churn + solo_churn"
   ]
  },
  {
   "cell_type": "code",
   "execution_count": 21,
   "id": "594a6bdd",
   "metadata": {},
   "outputs": [
    {
     "data": {
      "text/plain": [
       "850"
      ]
     },
     "execution_count": 21,
     "metadata": {},
     "output_type": "execute_result"
    }
   ],
   "source": [
    "# Number of churned customers with multiple lines\n",
    "multiple_line_churn = df[(df['churn'] == 'Yes') & (df['has_multiple_lines'] == 'Yes')].shape[0]\n",
    "\n",
    "multiple_line_churn"
   ]
  },
  {
   "cell_type": "code",
   "execution_count": 22,
   "id": "e3d30cb9",
   "metadata": {},
   "outputs": [
    {
     "data": {
      "text/plain": [
       "26.528585614980848"
      ]
     },
     "execution_count": 22,
     "metadata": {},
     "output_type": "execute_result"
    }
   ],
   "source": [
    "(churned_count / customer_count) * 100"
   ]
  },
  {
   "cell_type": "code",
   "execution_count": 23,
   "id": "62b6ea8e",
   "metadata": {},
   "outputs": [
    {
     "data": {
      "text/plain": [
       "22"
      ]
     },
     "execution_count": 23,
     "metadata": {},
     "output_type": "execute_result"
    }
   ],
   "source": [
    "multiple_line_dependents_churn = df[(df['churn'] == 'Yes') & (df['has_multiple_lines'] == 'Yes') & (df['group_type'] == 'Dependents')].shape[0]\n",
    "\n",
    "multiple_line_dependents_churn"
   ]
  },
  {
   "cell_type": "code",
   "execution_count": 24,
   "id": "d125d5ca",
   "metadata": {},
   "outputs": [
    {
     "data": {
      "text/plain": [
       "256"
      ]
     },
     "execution_count": 24,
     "metadata": {},
     "output_type": "execute_result"
    }
   ],
   "source": [
    "multiple_line_partner_churn = df[(df['churn'] == 'Yes') & (df['has_multiple_lines'] == 'Yes') & (df['group_type'] == 'Partner')].shape[0]\n",
    "\n",
    "multiple_line_partner_churn"
   ]
  },
  {
   "cell_type": "code",
   "execution_count": 25,
   "id": "61dfeb4d",
   "metadata": {},
   "outputs": [
    {
     "data": {
      "text/plain": [
       "112"
      ]
     },
     "execution_count": 25,
     "metadata": {},
     "output_type": "execute_result"
    }
   ],
   "source": [
    "multiple_line_both_churn = df[(df['churn'] == 'Yes') & (df['has_multiple_lines'] == 'Yes') & (df['group_type'] == 'Both')].shape[0]\n",
    "\n",
    "multiple_line_both_churn"
   ]
  },
  {
   "cell_type": "code",
   "execution_count": 26,
   "id": "5051ee02",
   "metadata": {},
   "outputs": [
    {
     "data": {
      "text/plain": [
       "460"
      ]
     },
     "execution_count": 26,
     "metadata": {},
     "output_type": "execute_result"
    }
   ],
   "source": [
    "multiple_line_solo_churn = df[(df['churn'] == 'Yes') & (df['has_multiple_lines'] == 'Yes') & (df['group_type'] == 'Neither')].shape[0]\n",
    "\n",
    "multiple_line_solo_churn"
   ]
  },
  {
   "cell_type": "code",
   "execution_count": 27,
   "id": "0895c6eb",
   "metadata": {},
   "outputs": [
    {
     "data": {
      "text/plain": [
       "390"
      ]
     },
     "execution_count": 27,
     "metadata": {},
     "output_type": "execute_result"
    }
   ],
   "source": [
    "multiple_line_both_churn + multiple_line_dependents_churn + multiple_line_partner_churn"
   ]
  },
  {
   "cell_type": "code",
   "execution_count": 28,
   "id": "3e0a01f5",
   "metadata": {},
   "outputs": [
    {
     "data": {
      "text/plain": [
       "54.11764705882353"
      ]
     },
     "execution_count": 28,
     "metadata": {},
     "output_type": "execute_result"
    }
   ],
   "source": [
    "(multiple_line_solo_churn / multiple_line_churn) * 100"
   ]
  },
  {
   "cell_type": "code",
   "execution_count": 29,
   "id": "0e2cf037",
   "metadata": {},
   "outputs": [
    {
     "data": {
      "text/plain": [
       "425.0"
      ]
     },
     "execution_count": 29,
     "metadata": {},
     "output_type": "execute_result"
    }
   ],
   "source": [
    "#customers saved assuming 50% plan efficacy\n",
    "\n",
    "multiple_line_churn * .5"
   ]
  },
  {
   "cell_type": "code",
   "execution_count": 48,
   "id": "f98c7f8d",
   "metadata": {},
   "outputs": [],
   "source": [
    "#Calculating lost revenue from churned multi-line customers:\n",
    "\n",
    "multi_lost = df[(df['churn'] == 'Yes') & (df['has_multiple_lines'] == 'Yes')].monthly_charges.sum()"
   ]
  },
  {
   "cell_type": "code",
   "execution_count": 51,
   "id": "b1232c1b",
   "metadata": {},
   "outputs": [],
   "source": [
    "#Calculating yearly lost revenue from churned multi-line customers:\n",
    "\n",
    "multi_lost_yearly = multi_lost * 12"
   ]
  },
  {
   "cell_type": "code",
   "execution_count": 52,
   "id": "dc60ec8d",
   "metadata": {},
   "outputs": [
    {
     "data": {
      "text/plain": [
       "454263.0"
      ]
     },
     "execution_count": 52,
     "metadata": {},
     "output_type": "execute_result"
    }
   ],
   "source": [
    "#Calculating yearly revenue saved if plan 50% successful:\n",
    "multi_lost_yearly * .5"
   ]
  },
  {
   "cell_type": "markdown",
   "id": "1f723430",
   "metadata": {},
   "source": [
    "## Step 1: Define your goal. What's the impact? Who benefits? Why does this matter?\n",
    "\n",
    "- What is our goal?\n",
    "    - Understand the drivers of customer churn. \n",
    "    \n",
    "- Why does customer churn matter?\n",
    "    - In the simplest of terms, customer churn means lost revenue.\n",
    "    - Keeping customers is much cheaper than trying to obtain new ones. \n",
    "    - https://www.zendesk.com/blog/customer-churn-rate/\n",
    "    - https://www.netsuite.com/portal/resource/articles/human-resources/customer-churn-analysis.shtml?mc24943=v2\n",
    "    \n",
    "- What's our target variable?\n",
    "    - Customer churn is the target variable. We have a yes/no for whether someone left. \n",
    "    \n",
    "- What are some interesting variables?\n",
    "    - churn (this is a monthly value)\n",
    "    - monthly_charges\n",
    "    - tenure\n",
    "    - contract_type\n",
    "    - dependents\n",
    "    - partner\n",
    "    - I want to create another variable that determines whether someone has both phone *and* internet.\n",
    "    \n",
    "- What does an MVP look like?\n",
    "    - What target rate are we trying to hit with churn?\n",
    "        - A 'normal' churn rate in telecommunications is 1.9% - 2.1%\n",
    "        - http://www.dbmarketing.com/telecom/churnreduction.html\n",
    "    - What's the biggest story or two?\n",
    "        - The cost of replacing customers (maybe illustrate how much moving the needle even something like 5 or 10 percent can help)\n",
    "    - Defining a deliverable:\n",
    "        - Need to create a short, 3 minute presentation of analysis and recommendations. \n",
    "        \n",
    "- Data Source: https://www.kaggle.com/datasets/blastchar/telco-customer-churn"
   ]
  },
  {
   "cell_type": "code",
   "execution_count": 30,
   "id": "4d659e8d",
   "metadata": {},
   "outputs": [
    {
     "data": {
      "text/plain": [
       "<AxesSubplot:>"
      ]
     },
     "execution_count": 30,
     "metadata": {},
     "output_type": "execute_result"
    },
    {
     "data": {
      "image/png": "[encoded data removed]",
      "text/plain": [
       "<Figure size 432x288 with 1 Axes>"
      ]
     },
     "metadata": {
      "needs_background": "light"
     },
     "output_type": "display_data"
    }
   ],
   "source": [
    "#The target variable is churn, so I want to know the percentage of churn in the last month:\n",
    "\n",
    "df.churn.hist()"
   ]
  },
  {
   "cell_type": "code",
   "execution_count": 31,
   "id": "1fc776f3",
   "metadata": {},
   "outputs": [
    {
     "data": {
      "text/plain": [
       "No     5179\n",
       "Yes    1870\n",
       "Name: churn, dtype: int64"
      ]
     },
     "execution_count": 31,
     "metadata": {},
     "output_type": "execute_result"
    }
   ],
   "source": [
    "#It looks like churn is pretty high, but I want to see the numbers:\n",
    "\n",
    "df.churn.value_counts()"
   ]
  },
  {
   "cell_type": "code",
   "execution_count": 32,
   "id": "c85e5a62",
   "metadata": {},
   "outputs": [
    {
     "data": {
      "text/plain": [
       "26.528585614980848"
      ]
     },
     "execution_count": 32,
     "metadata": {},
     "output_type": "execute_result"
    }
   ],
   "source": [
    "#Percentage of customers that churn:\n",
    "(df[df.churn == 'Yes'].shape[0] / df.shape[0]) * 100\n",
    "\n",
    "#It looks like the monthly churn rate is about 26.5%, which is alarmingly high."
   ]
  },
  {
   "cell_type": "code",
   "execution_count": 33,
   "id": "f6d42daa",
   "metadata": {},
   "outputs": [
    {
     "data": {
      "text/plain": [
       "13.264292807490424"
      ]
     },
     "execution_count": 33,
     "metadata": {},
     "output_type": "execute_result"
    }
   ],
   "source": [
    "# How does this compare to the 1.9 - 2.1% that is considered 'normal'? We'll assume a 2% churn as normal:\n",
    "((df[df.churn == 'Yes'].shape[0] / df.shape[0]) * 100) / 2\n",
    "\n",
    "# So our churn is over 13x the conventional average. "
   ]
  },
  {
   "cell_type": "code",
   "execution_count": 34,
   "id": "cdb0c091",
   "metadata": {},
   "outputs": [
    {
     "data": {
      "text/plain": [
       "139161.35"
      ]
     },
     "execution_count": 34,
     "metadata": {},
     "output_type": "execute_result"
    }
   ],
   "source": [
    "#How much money is lost (monthly) when these customers leave?\n",
    "\n",
    "df[df.churn == 'Yes'].monthly_charges.sum()"
   ]
  },
  {
   "cell_type": "code",
   "execution_count": 35,
   "id": "0964dfbd",
   "metadata": {
    "scrolled": true
   },
   "outputs": [
    {
     "data": {
      "text/plain": [
       "1669936.2000000002"
      ]
     },
     "execution_count": 35,
     "metadata": {},
     "output_type": "execute_result"
    }
   ],
   "source": [
    "#How much money would this be over the course of the year, assuming we lost no further customers?\n",
    "df[df.churn == 'Yes'].monthly_charges.sum() * 12\n",
    "\n",
    "#So the lost revenue over the course of a year from these customers alone is almost $1.7M."
   ]
  },
  {
   "cell_type": "markdown",
   "id": "0f32f715",
   "metadata": {},
   "source": [
    "# How much does it cost on average to obtain a new telecom customer?\n",
    "- \"The average costs of acquisition are about four times average monthly ARPU,\" so we'll assume that 4 months' revenue will be the cost of replacing a churned user. \n",
    "- https://stlpartners.com/research/telco-economics-mobile-churn-rates-and-reduction-strategies/"
   ]
  },
  {
   "cell_type": "code",
   "execution_count": 36,
   "id": "c49ec9cf",
   "metadata": {},
   "outputs": [
    {
     "data": {
      "text/plain": [
       "297.67133689839574"
      ]
     },
     "execution_count": 36,
     "metadata": {},
     "output_type": "execute_result"
    }
   ],
   "source": [
    "# Given the above, how much would it cost us to replace these users?\n",
    "\n",
    "(df[df.churn == 'Yes'].monthly_charges.sum() / df[df.churn == 'Yes'].shape[0]) * 4\n",
    "\n",
    "#The average cost to replace a user lost to churn is about $298. "
   ]
  },
  {
   "cell_type": "code",
   "execution_count": 37,
   "id": "82979569",
   "metadata": {},
   "outputs": [
    {
     "data": {
      "text/plain": [
       "556645.4"
      ]
     },
     "execution_count": 37,
     "metadata": {},
     "output_type": "execute_result"
    }
   ],
   "source": [
    "# How much would this be, total, for all customers lost this month?\n",
    "((df[df.churn == 'Yes'].monthly_charges.sum() / df[df.churn == 'Yes'].shape[0]) * 4) * (df[df.churn == 'Yes'].shape[0])\n",
    "\n",
    "# The cost to replace the customers lost this month would be around $556,000."
   ]
  },
  {
   "cell_type": "code",
   "execution_count": 38,
   "id": "ec4a49cd",
   "metadata": {},
   "outputs": [
    {
     "data": {
      "text/plain": [
       "6679744.800000001"
      ]
     },
     "execution_count": 38,
     "metadata": {},
     "output_type": "execute_result"
    }
   ],
   "source": [
    "# Assuming a fiscal year that consists of months like this, what's the yearly cost of replacing churned users?\n",
    "(((df[df.churn == 'Yes'].monthly_charges.sum() / df[df.churn == 'Yes'].shape[0]) * 4) * (df[df.churn == 'Yes'].shape[0]) *12)\n",
    "\n",
    "#The cost of customer acquisition *just to replace churned customers* would be almost $6.7 million."
   ]
  },
  {
   "cell_type": "markdown",
   "id": "57f6d5c5",
   "metadata": {},
   "source": [
    "# What are the big drivers of customer churn?\n",
    "- Key hypotheses to test:\n",
    "    - There is a relationship between churn and monthly charges\n",
    "    - People with longer tenure will be less likely to leave\n",
    "    - Is there a relationship between whether a customer has a partner or dependents and whether they churn?"
   ]
  },
  {
   "cell_type": "code",
   "execution_count": 39,
   "id": "971d52a4",
   "metadata": {},
   "outputs": [
    {
     "data": {
      "text/plain": [
       "<AxesSubplot:xlabel='churn', ylabel='monthly_charges'>"
      ]
     },
     "execution_count": 39,
     "metadata": {},
     "output_type": "execute_result"
    },
    {
     "data": {
      "image/png": "[encoded data removed]",
      "text/plain": [
       "<Figure size 432x288 with 1 Axes>"
      ]
     },
     "metadata": {
      "needs_background": "light"
     },
     "output_type": "display_data"
    }
   ],
   "source": [
    "#It appears that those who churned have higher average monthly charges.\n",
    "\n",
    "sns.boxplot(x = \"churn\", y = \"monthly_charges\", data = df)"
   ]
  },
  {
   "cell_type": "code",
   "execution_count": 40,
   "id": "8a59e220",
   "metadata": {},
   "outputs": [
    {
     "data": {
      "text/plain": [
       "<AxesSubplot:xlabel='churn', ylabel='tenure'>"
      ]
     },
     "execution_count": 40,
     "metadata": {},
     "output_type": "execute_result"
    },
    {
     "data": {
      "image/png": "[encoded data removed]",
      "text/plain": [
       "<Figure size 432x288 with 1 Axes>"
      ]
     },
     "metadata": {
      "needs_background": "light"
     },
     "output_type": "display_data"
    }
   ],
   "source": [
    "sns.boxplot(x = 'churn', y = 'tenure', data = df)\n",
    "\n",
    "#It does indeed appear that people with lower tenure are more likely to churn"
   ]
  },
  {
   "cell_type": "code",
   "execution_count": 41,
   "id": "97e0b440",
   "metadata": {},
   "outputs": [
    {
     "data": {
      "text/plain": [
       "<seaborn.axisgrid.FacetGrid at 0x7f9248c327c0>"
      ]
     },
     "execution_count": 41,
     "metadata": {},
     "output_type": "execute_result"
    },
    {
     "data": {
      "image/png": "[encoded data removed]",
      "text/plain": [
       "<Figure size 412x360 with 1 Axes>"
      ]
     },
     "metadata": {
      "needs_background": "light"
     },
     "output_type": "display_data"
    }
   ],
   "source": [
    "sns.displot(data = df, x = 'churn', hue = 'partner', multiple = 'stack')\n",
    "\n",
    "#It appears that people who churn are less likely to have partners.\n",
    "\n",
    "#We could maybe advertise an incentive on shared or family plans. "
   ]
  },
  {
   "cell_type": "code",
   "execution_count": 42,
   "id": "ddf0bf95",
   "metadata": {},
   "outputs": [
    {
     "data": {
      "text/plain": [
       "<seaborn.axisgrid.FacetGrid at 0x7f92385758e0>"
      ]
     },
     "execution_count": 42,
     "metadata": {},
     "output_type": "execute_result"
    },
    {
     "data": {
      "image/png": "[encoded data removed]",
      "text/plain": [
       "<Figure size 427.25x360 with 1 Axes>"
      ]
     },
     "metadata": {
      "needs_background": "light"
     },
     "output_type": "display_data"
    }
   ],
   "source": [
    "sns.displot(data = df, x = 'churn', hue = 'dependents', multiple = 'stack')"
   ]
  },
  {
   "cell_type": "code",
   "execution_count": 43,
   "id": "4922f65b",
   "metadata": {},
   "outputs": [
    {
     "data": {
      "text/plain": [
       "<seaborn.axisgrid.FacetGrid at 0x7f9238585370>"
      ]
     },
     "execution_count": 43,
     "metadata": {},
     "output_type": "execute_result"
    },
    {
     "data": {
      "image/png": "[encoded data removed]",
      "text/plain": [
       "<Figure size 412x360 with 1 Axes>"
      ]
     },
     "metadata": {
      "needs_background": "light"
     },
     "output_type": "display_data"
    }
   ],
   "source": [
    "sns.displot(data = df, x = 'dependents', hue = 'partner', multiple = 'stack')\n",
    "\n",
    "#It looks like people with dependents are much less likely to churn. "
   ]
  },
  {
   "cell_type": "code",
   "execution_count": 44,
   "id": "38f748b7",
   "metadata": {},
   "outputs": [
    {
     "data": {
      "text/plain": [
       "<seaborn.axisgrid.FacetGrid at 0x7f92189abf70>"
      ]
     },
     "execution_count": 44,
     "metadata": {},
     "output_type": "execute_result"
    },
    {
     "data": {
      "image/png": "[encoded data removed]",
      "text/plain": [
       "<Figure size 426.75x360 with 1 Axes>"
      ]
     },
     "metadata": {
      "needs_background": "light"
     },
     "output_type": "display_data"
    }
   ],
   "source": [
    "sns.displot(data = df, x = 'churn', hue = 'is_auto_pay', multiple = 'stack')\n",
    "\n",
    "#It looks like those who churn are MUCH less likely to be signed up for autopay. "
   ]
  },
  {
   "cell_type": "code",
   "execution_count": 45,
   "id": "ec921ec2",
   "metadata": {},
   "outputs": [
    {
     "data": {
      "text/plain": [
       "<seaborn.axisgrid.FacetGrid at 0x7f922bd57a90>"
      ]
     },
     "execution_count": 45,
     "metadata": {},
     "output_type": "execute_result"
    },
    {
     "data": {
      "image/png": "[encoded data removed]",
      "text/plain": [
       "<Figure size 412x360 with 1 Axes>"
      ]
     },
     "metadata": {
      "needs_background": "light"
     },
     "output_type": "display_data"
    }
   ],
   "source": [
    "sns.displot(data = df, x = 'group_type', hue = 'churn', multiple = 'stack')"
   ]
  },
  {
   "cell_type": "code",
   "execution_count": 46,
   "id": "1474aa3e",
   "metadata": {},
   "outputs": [
    {
     "data": {
      "text/plain": [
       "<AxesSubplot:xlabel='churn', ylabel='tenure'>"
      ]
     },
     "execution_count": 46,
     "metadata": {},
     "output_type": "execute_result"
    },
    {
     "data": {
      "image/png": "[encoded data removed]",
      "text/plain": [
       "<Figure size 432x288 with 1 Axes>"
      ]
     },
     "metadata": {
      "needs_background": "light"
     },
     "output_type": "display_data"
    }
   ],
   "source": [
    "sns.boxplot(x = 'churn', y = 'tenure', data = df)"
   ]
  },
  {
   "cell_type": "code",
   "execution_count": null,
   "id": "a42afe6a",
   "metadata": {},
   "outputs": [],
   "source": []
  }
 ],
 "metadata": {
  "kernelspec": {
   "display_name": "Python 3 (ipykernel)",
   "language": "python",
   "name": "python3"
  },
  "language_info": {
   "codemirror_mode": {
    "name": "ipython",
    "version": 3
   },
   "file_extension": ".py",
   "mimetype": "text/x-python",
   "name": "python",
   "nbconvert_exporter": "python",
   "pygments_lexer": "ipython3",
   "version": "3.9.7"
  }
 },
 "nbformat": 4,
 "nbformat_minor": 5
}
